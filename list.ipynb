{
  "cells": [
    {
      "cell_type": "markdown",
      "metadata": {
        "id": "view-in-github",
        "colab_type": "text"
      },
      "source": [
        "<a href=\"https://colab.research.google.com/github/srishtiiii545/Mishra.phyton545/blob/main/list.ipynb\" target=\"_parent\"><img src=\"https://colab.research.google.com/assets/colab-badge.svg\" alt=\"Open In Colab\"/></a>"
      ]
    },
    {
      "cell_type": "code",
      "execution_count": null,
      "metadata": {
        "colab": {
          "base_uri": "https://localhost:8080/"
        },
        "id": "h8-349_MBugd",
        "outputId": "b36c5128-8df5-4c36-c430-61ce393623dc"
      },
      "outputs": [
        {
          "name": "stdout",
          "output_type": "stream",
          "text": [
            "['apple', 'banana', 'cherry', 'rose']\n"
          ]
        }
      ],
      "source": [
        " fruit= list((\"apple\",\"banana\",\"cherry\"))\n",
        "fruit.append(\"rose\")\n",
        "\n",
        "print(fruit)"
      ]
    },
    {
      "cell_type": "code",
      "execution_count": null,
      "metadata": {
        "colab": {
          "base_uri": "https://localhost:8080/"
        },
        "id": "BHK-Ls76EuXR",
        "outputId": "558f5ebc-af9b-474b-b12c-590821532878"
      },
      "outputs": [
        {
          "name": "stdout",
          "output_type": "stream",
          "text": [
            "['apple', 'mango', 'banana', 'cherry', 'rose']\n"
          ]
        }
      ],
      "source": [
        "fruit= list((\"apple\",\"banana\",\"cherry\"))\n",
        "fruit.append(\"rose\")\n",
        "fruit.insert(1,\"mango\")\n",
        "print(fruit)"
      ]
    },
    {
      "cell_type": "code",
      "execution_count": null,
      "metadata": {
        "colab": {
          "base_uri": "https://localhost:8080/"
        },
        "id": "txkPcHrfE2Ax",
        "outputId": "625b649f-570e-428b-d576-cfd924dd7650"
      },
      "outputs": [
        {
          "name": "stdout",
          "output_type": "stream",
          "text": [
            "['banana']\n"
          ]
        }
      ],
      "source": [
        "fruit= list((\"apple\",\"banana\",\"cherry\"))\n",
        "fruit.append(\"rose\")\n",
        "fruit.insert(1,\"mango\")\n",
        "\n",
        "print(fruit[2:3])"
      ]
    },
    {
      "cell_type": "code",
      "execution_count": null,
      "metadata": {
        "colab": {
          "base_uri": "https://localhost:8080/"
        },
        "id": "scRxIePOFWWw",
        "outputId": "b60736d3-7832-4a6f-fb51-b932129b4403"
      },
      "outputs": [
        {
          "name": "stdout",
          "output_type": "stream",
          "text": [
            "banana\n"
          ]
        }
      ],
      "source": [
        "fruit= list((\"apple\",\"banana\",\"cherry\"))\n",
        "fruit.append(\"rose\")\n",
        "fruit.insert(1,\"mango\")\n",
        "\n",
        "print(fruit[2])"
      ]
    },
    {
      "cell_type": "code",
      "execution_count": null,
      "metadata": {
        "colab": {
          "base_uri": "https://localhost:8080/"
        },
        "id": "UaC2dHewGEOX",
        "outputId": "07481df7-6e94-4d2d-b23d-4bfb1506f10e"
      },
      "outputs": [
        {
          "name": "stdout",
          "output_type": "stream",
          "text": [
            "['apple', 'banana', 'cherry', 'rose']\n",
            "true\n"
          ]
        }
      ],
      "source": [
        "fruit= list((\"apple\",\"banana\",\"cherry\"))\n",
        "fruit.append(\"rose\")\n",
        "print(fruit)\n",
        "if 'grapes' not in fruit:\n",
        "  print (\"true\")\n",
        "else:\n",
        "  print('fasle')"
      ]
    },
    {
      "cell_type": "code",
      "execution_count": null,
      "metadata": {
        "colab": {
          "base_uri": "https://localhost:8080/"
        },
        "id": "pu5mbvg0G1mQ",
        "outputId": "e1a3bd44-1234-4241-bbe8-00db55c50eae"
      },
      "outputs": [
        {
          "name": "stdout",
          "output_type": "stream",
          "text": [
            "['apple', 'banana', 'cherry', 'berry', 'grapes']\n"
          ]
        }
      ],
      "source": [
        "fruit= list((\"apple\",\"banana\",\"cherry\"))\n",
        "fru2 =list((\"berry\",\"grapes\"))\n",
        "fruit.extend(fru2)\n",
        "print(fruit)"
      ]
    },
    {
      "cell_type": "code",
      "execution_count": null,
      "metadata": {
        "colab": {
          "base_uri": "https://localhost:8080/"
        },
        "id": "atmFUIqQHoCI",
        "outputId": "88bc4b43-b8ac-42ae-b0ec-439063799429"
      },
      "outputs": [
        {
          "name": "stdout",
          "output_type": "stream",
          "text": [
            "['banana', 'cherry']\n"
          ]
        }
      ],
      "source": [
        "fruit= list((\"apple\",\"banana\",\"cherry\"))\n",
        "fru2 =list((\"berry\",\"grapes\"))\n",
        "fruit.remove('apple')\n",
        "print(fruit)"
      ]
    },
    {
      "cell_type": "code",
      "execution_count": null,
      "metadata": {
        "colab": {
          "base_uri": "https://localhost:8080/"
        },
        "id": "-XaWk2RUIP7F",
        "outputId": "a7e6a102-9428-4358-bfc1-e144456579c0"
      },
      "outputs": [
        {
          "name": "stdout",
          "output_type": "stream",
          "text": [
            "['apple', 'banana']\n"
          ]
        }
      ],
      "source": [
        "fruit= list((\"apple\",\"banana\",\"cherry\"))\n",
        "fruit.pop()\n",
        "print(fruit)"
      ]
    },
    {
      "cell_type": "code",
      "execution_count": null,
      "metadata": {
        "colab": {
          "base_uri": "https://localhost:8080/"
        },
        "id": "58zI31JycOsJ",
        "outputId": "408eef81-b530-47c4-bd7b-9143c1012c3a"
      },
      "outputs": [
        {
          "name": "stdout",
          "output_type": "stream",
          "text": [
            "55\n"
          ]
        }
      ],
      "source": [
        "a=list((1,2,3,4,5,6,7,8,9,10))\n",
        "sum=0\n",
        "length=len(a)\n",
        "for i in range(length):\n",
        "  sum+=a[i]\n",
        "print(sum)\n"
      ]
    },
    {
      "cell_type": "code",
      "execution_count": null,
      "metadata": {
        "id": "J-uXoAMpgHvV"
      },
      "outputs": [],
      "source": [
        "a=list(())\n",
        "b=input()\n",
        "\n",
        "for i in range (5):\n",
        "  b=input()\n",
        "  a.append(b)\n",
        "  print(a)\n",
        "\n",
        "\n",
        "\n",
        "\n",
        "\n"
      ]
    },
    {
      "cell_type": "code",
      "execution_count": null,
      "metadata": {
        "colab": {
          "base_uri": "https://localhost:8080/"
        },
        "id": "6GsYBWEMmkAN",
        "outputId": "4816cccc-6399-4f5b-a477-bb900a25dab5"
      },
      "outputs": [
        {
          "name": "stdout",
          "output_type": "stream",
          "text": [
            "Enter a word: amma\n",
            " same.(^-^)\n"
          ]
        }
      ],
      "source": [
        "\n",
        "a = input(\"Enter a word: \")\n",
        "a_lower = a.lower()\n",
        "\n",
        "if a_lower[0] == a_lower[-1]:\n",
        "    print(\" same.(^-^)\")\n",
        "else:\n",
        "    print(\" different.(*_*)\")\n",
        "\n",
        "\n",
        "\n",
        "\n"
      ]
    },
    {
      "cell_type": "code",
      "execution_count": null,
      "metadata": {
        "colab": {
          "base_uri": "https://localhost:8080/"
        },
        "id": "-cCx9WRA1Lmg",
        "outputId": "4b70cdb1-7d54-4edc-8faf-09952d0079af"
      },
      "outputs": [
        {
          "name": "stdout",
          "output_type": "stream",
          "text": [
            "{'mango', 'cherry', 'apple'}\n"
          ]
        }
      ],
      "source": [
        "tuple={\"apple\",\"mango\",\"cherry\"}\n",
        "print(tuple)"
      ]
    },
    {
      "cell_type": "code",
      "execution_count": null,
      "metadata": {
        "colab": {
          "base_uri": "https://localhost:8080/"
        },
        "id": "5ANbMcsW2zqS",
        "outputId": "1184b8fd-2154-4635-d52d-06bc38163c5c"
      },
      "outputs": [
        {
          "name": "stdout",
          "output_type": "stream",
          "text": [
            "{'b', 'a', 'c'}\n",
            "{'d', 'b', 'a', 'c'}\n"
          ]
        }
      ],
      "source": [
        "myset = set([\"a\", \"b\", \"c\"])\n",
        "print(myset)\n",
        "\n",
        "\n",
        "myset.add(\"d\")\n",
        "print(myset)"
      ]
    },
    {
      "cell_type": "code",
      "execution_count": null,
      "metadata": {
        "colab": {
          "base_uri": "https://localhost:8080/"
        },
        "id": "FDYMzjvDBeZh",
        "outputId": "2628d44b-3a0b-4122-a5b1-0253fcaea606"
      },
      "outputs": [
        {
          "name": "stdout",
          "output_type": "stream",
          "text": [
            "{'b', 'a', 'c'}\n",
            "{'a', 'c'}\n"
          ]
        }
      ],
      "source": [
        "myset = set([\"a\", \"b\", \"c\"])\n",
        "print(myset)\n",
        "\n",
        "\n",
        "myset.remove(\"b\")\n",
        "print(myset)"
      ]
    },
    {
      "cell_type": "code",
      "execution_count": null,
      "metadata": {
        "id": "sLm3U9hGB0Ri"
      },
      "outputs": [],
      "source": [
        "myset = set([\"a\", \"b\", \"c\"])\n",
        "set1=set([\"d\",\"w\",\"a\"])\n",
        "set2=myset.union(set1)\n",
        "myset.intersection_update(\"set2\")\n",
        "print(myset)\n",
        "print(set2)"
      ]
    },
    {
      "cell_type": "code",
      "execution_count": null,
      "metadata": {
        "colab": {
          "base_uri": "https://localhost:8080/"
        },
        "id": "S-5UJgmpDuma",
        "outputId": "6a9caa95-e424-4a25-909e-329604df8fe2"
      },
      "outputs": [
        {
          "name": "stdout",
          "output_type": "stream",
          "text": [
            "srirhti\n",
            "('science', 'maths')\n"
          ]
        }
      ],
      "source": [
        "user={\"Name\":\"srirhti\",\n",
        "\"age\":21,\n",
        "\"subject\":((\"science\",\"maths\"))}\n",
        "print(user[\"Name\"])\n",
        "print(user[\"subject\"])"
      ]
    },
    {
      "cell_type": "code",
      "execution_count": null,
      "metadata": {
        "colab": {
          "base_uri": "https://localhost:8080/"
        },
        "id": "93QyVm6vGQlP",
        "outputId": "dc13d2fa-2c40-424b-d32d-f603401cc704"
      },
      "outputs": [
        {
          "name": "stdout",
          "output_type": "stream",
          "text": [
            "srirhti\n",
            "('science', 'maths')\n",
            "[20, 12]\n"
          ]
        }
      ],
      "source": [
        "user={\"Name\":\"srirhti\",\n",
        "\"age\":[20,12],\n",
        "\"subject\":((\"science\",\"maths\"))}\n",
        "print(user[\"Name\"])\n",
        "print(user[\"subject\"])\n",
        "print(user[\"age\"])"
      ]
    },
    {
      "cell_type": "code",
      "execution_count": null,
      "metadata": {
        "colab": {
          "base_uri": "https://localhost:8080/"
        },
        "id": "0tO5Iw3YGvi3",
        "outputId": "06b68128-1b05-47b2-940e-6fe35493eb78"
      },
      "outputs": [
        {
          "name": "stdout",
          "output_type": "stream",
          "text": [
            "dict_keys(['Name', 'age', 'subject'])\n"
          ]
        }
      ],
      "source": [
        "user={\"Name\":\"srirhti\",\n",
        "\"age\":[20,12],\n",
        "\"subject\":((\"science\",\"maths\"))}\n",
        "print(user.keys())"
      ]
    },
    {
      "cell_type": "code",
      "execution_count": null,
      "metadata": {
        "colab": {
          "base_uri": "https://localhost:8080/"
        },
        "id": "onDTZ-sJHD2o",
        "outputId": "a45638bf-fee3-47e7-acc9-522ddddfdaf8"
      },
      "outputs": [
        {
          "name": "stdout",
          "output_type": "stream",
          "text": [
            "dict_values(['srirhti', [20, 12], ('science', 'maths')])\n"
          ]
        }
      ],
      "source": [
        "user={\"Name\":\"srirhti\",\n",
        "\"age\":[20,12],\n",
        "\"subject\":((\"science\",\"maths\"))}\n",
        "print(user.values())"
      ]
    },
    {
      "cell_type": "code",
      "execution_count": null,
      "metadata": {
        "colab": {
          "base_uri": "https://localhost:8080/"
        },
        "id": "KMOT3AAiHMuh",
        "outputId": "7f98e22a-b3a4-4401-ac3f-01917b846aac"
      },
      "outputs": [
        {
          "name": "stdout",
          "output_type": "stream",
          "text": [
            "dict_items([('Name', 'srirhti'), ('age', [20, 12]), ('subject', ('science', 'maths'))])\n"
          ]
        }
      ],
      "source": [
        "user={\"Name\":\"srirhti\",\n",
        "\"age\":[20,12],\n",
        "\"subject\":((\"science\",\"maths\"))}\n",
        "print(user.items())"
      ]
    },
    {
      "cell_type": "code",
      "execution_count": null,
      "metadata": {
        "colab": {
          "base_uri": "https://localhost:8080/"
        },
        "id": "mRgpoBUcHZgY",
        "outputId": "31509802-1d59-4b93-d993-7990ac670e68"
      },
      "outputs": [
        {
          "name": "stdout",
          "output_type": "stream",
          "text": [
            "Name srirhti\n",
            "age [20, 12]\n",
            "subject ('science', 'maths')\n"
          ]
        }
      ],
      "source": [
        "user={\"Name\":\"srirhti\",\n",
        "\"age\":[20,12],\n",
        "\"subject\":((\"science\",\"maths\"))}\n",
        "for keys,values in user.items():\n",
        "  print(keys,values)"
      ]
    },
    {
      "cell_type": "code",
      "execution_count": null,
      "metadata": {
        "colab": {
          "base_uri": "https://localhost:8080/"
        },
        "id": "4Dk7i7fyH_wC",
        "outputId": "823b20ed-2aa0-40ff-ee8a-c18ea1740964"
      },
      "outputs": [
        {
          "name": "stdout",
          "output_type": "stream",
          "text": [
            "dict_items([('Name', 'srirhti'), ('age', [20, 12]), ('subject', ('science', 'maths')), ('gender', 'female')])\n"
          ]
        }
      ],
      "source": [
        "user={\"Name\":\"srirhti\",\n",
        "\"age\":[20,12],\n",
        "\"subject\":((\"science\",\"maths\"))}\n",
        "# user.update['Name']= 'srishti']\n",
        "user.update({'gender':'female'})\n",
        "print(user.items())"
      ]
    },
    {
      "cell_type": "code",
      "execution_count": null,
      "metadata": {
        "colab": {
          "base_uri": "https://localhost:8080/"
        },
        "id": "PfkWdPHCJ2jr",
        "outputId": "a908d4ba-7b21-44c7-cbe7-3cbc5653d4ed"
      },
      "outputs": [
        {
          "name": "stdout",
          "output_type": "stream",
          "text": [
            "dict_items([('Name', 'srirhti'), ('age', [20, 12]), ('subject', ('science', 'maths')), ('gender', 'f')])\n"
          ]
        }
      ],
      "source": [
        "user={\"Name\":\"srirhti\",\n",
        "\"age\":[20,12],\n",
        "\"subject\":((\"science\",\"maths\"))}\n",
        "user[\"gender\"]=\"f\"\n",
        "print(user.items())"
      ]
    },
    {
      "cell_type": "code",
      "execution_count": null,
      "metadata": {
        "colab": {
          "base_uri": "https://localhost:8080/"
        },
        "id": "JP-WlB_AKHMk",
        "outputId": "de0e944b-d64d-4be7-bfee-68b50ecdd04a"
      },
      "outputs": [
        {
          "name": "stdout",
          "output_type": "stream",
          "text": [
            "[20, 12]\n"
          ]
        }
      ],
      "source": [
        "user={\"Name\":\"srirhti\",\n",
        "\"age\":[20,12],\n",
        "\"subject\":((\"science\",\"maths\"))}\n",
        "print(user.pop('age'))"
      ]
    },
    {
      "cell_type": "code",
      "execution_count": null,
      "metadata": {
        "colab": {
          "base_uri": "https://localhost:8080/"
        },
        "id": "W2xzpicyKZ3e",
        "outputId": "d38c5040-cc52-4618-cb78-920a8a0e6135"
      },
      "outputs": [
        {
          "name": "stdout",
          "output_type": "stream",
          "text": [
            "[20, 12]\n"
          ]
        },
        {
          "data": {
            "text/plain": [
              "('subject', ('science', 'maths'))"
            ]
          },
          "execution_count": 55,
          "metadata": {},
          "output_type": "execute_result"
        }
      ],
      "source": [
        "user={\"Name\":\"srirhti\",\n",
        "\"age\":[20,12],\n",
        "\"subject\":((\"science\",\"maths\"))}\n",
        "print(user.pop('age'))\n",
        "user.popitem()"
      ]
    },
    {
      "cell_type": "code",
      "execution_count": null,
      "metadata": {
        "colab": {
          "base_uri": "https://localhost:8080/"
        },
        "id": "JOkgY3v9K5SX",
        "outputId": "97310fbd-fe71-4bfa-ad1b-4a680a618a0a"
      },
      "outputs": [
        {
          "name": "stdout",
          "output_type": "stream",
          "text": [
            "[20, 12]\n",
            "dict_items([])\n"
          ]
        }
      ],
      "source": [
        "user={\"Name\":\"srirhti\",\n",
        "\"age\":[20,12],\n",
        "\"subject\":((\"science\",\"maths\"))}\n",
        "print(user.pop('age'))\n",
        "user.popitem()\n",
        "del user[\"Name\"]\n",
        "print (user.items())\n"
      ]
    },
    {
      "cell_type": "code",
      "execution_count": null,
      "metadata": {
        "colab": {
          "base_uri": "https://localhost:8080/"
        },
        "id": "v_K78IZqWBA6",
        "outputId": "5a7f38e5-5baa-4e8a-bd9c-3901c278b98b"
      },
      "outputs": [
        {
          "output_type": "stream",
          "name": "stdout",
          "text": [
            "5\n",
            "error \n"
          ]
        }
      ],
      "source": [
        "a=int(input())\n",
        "b= \"hello\"\n",
        "try:\n",
        "  c=a+b\n",
        "except:\n",
        "  print(\"error \")\n"
      ]
    },
    {
      "cell_type": "code",
      "source": [
        "fruit= list((\"apple\",\"banana\",\"cherry\"))\n",
        "fruit[2]\n",
        "print(fruit)\n",
        "try:\n",
        "    fruit[2]\n",
        "except index_error:\n",
        "      print(\"in this list  doesn't exist\")\n"
      ],
      "metadata": {
        "colab": {
          "base_uri": "https://localhost:8080/"
        },
        "id": "fLg2n-jaZCGh",
        "outputId": "a32a586a-bc59-4513-d7bf-80259cfd9b11"
      },
      "execution_count": null,
      "outputs": [
        {
          "output_type": "stream",
          "name": "stdout",
          "text": [
            "['apple', 'banana', 'cherry']\n"
          ]
        }
      ]
    },
    {
      "cell_type": "code",
      "source": [
        "\n",
        "try:\n",
        "    res = 10 / 5\n",
        "except ZeroDivisionError:\n",
        "    print(\"division by zero\")\n",
        "else:\n",
        "  print(\"result is\", res)\n",
        "finally:\n",
        "  print(\"\")\n"
      ],
      "metadata": {
        "colab": {
          "base_uri": "https://localhost:8080/"
        },
        "id": "m9jcE-1hcFPi",
        "outputId": "aa938521-fc55-4f9e-e590-7fb645d192f7"
      },
      "execution_count": null,
      "outputs": [
        {
          "output_type": "stream",
          "name": "stdout",
          "text": [
            "result is 2.0\n",
            "\n"
          ]
        }
      ]
    },
    {
      "cell_type": "code",
      "source": [
        "my_dictionary = {\n",
        "    'name': 'srishti mishra',\n",
        "    'age': 21,\n",
        "    'city': 'jaipur',\n",
        "    'degree': 'bca'\n",
        "}\n",
        "def display_dictionary(dictionary):\n",
        "    for key, value in dictionary.items():\n",
        "        print(f\"{key}: {value}\")\n",
        "def insert_into_dictionary(dictionary, key, value):\n",
        " dictionary[key] = value\n",
        "\n",
        "print(\"the Dictionary(^_^)\")\n",
        "display_dictionary(my_dictionary)\n",
        "\n",
        "new_key = 'email'\n",
        "new_value = 'sm234@gmail.com'\n",
        "insert_into_dictionary(my_dictionary, new_key, new_value)\n",
        "\n",
        "key_to_delete = 'degree'\n",
        "if key_to_delete in my_dictionary:\n",
        "    my_dictionary.pop(key_to_delete)\n",
        "print(\"\\n\")\n",
        "print(\"Updated Dictionary(^_^):\")\n",
        "\n",
        "\n",
        "display_dictionary(my_dictionary)\n"
      ],
      "metadata": {
        "colab": {
          "base_uri": "https://localhost:8080/"
        },
        "id": "amEMabrihJGS",
        "outputId": "6b3571f1-4d3a-4bde-f082-3d7b5376c8d2"
      },
      "execution_count": null,
      "outputs": [
        {
          "output_type": "stream",
          "name": "stdout",
          "text": [
            "the Dictionary(^_^)\n",
            "name: srishti mishra\n",
            "age: 21\n",
            "city: jaipur\n",
            "degree: bca\n",
            "\n",
            "\n",
            "Updated Dictionary:\n",
            "name: srishti mishra\n",
            "age: 21\n",
            "city: jaipur\n",
            "email: sm234@gmail.com\n"
          ]
        }
      ]
    },
    {
      "cell_type": "code",
      "source": [
        "a=open(\"hi my name is srishti.txt\")\n",
        "print(a.read())"
      ],
      "metadata": {
        "colab": {
          "base_uri": "https://localhost:8080/"
        },
        "id": "aF9J3cfAd-ET",
        "outputId": "b261ebcc-d566-4eb9-be6c-01b2c1a1c68b"
      },
      "execution_count": null,
      "outputs": [
        {
          "output_type": "stream",
          "name": "stdout",
          "text": [
            "hi my name is srishti\n"
          ]
        }
      ]
    },
    {
      "cell_type": "code",
      "source": [
        "a=open(\"srishti.txt \",\"a\")\n",
        "a.write(\"hello see you never\")\n",
        "a.close()\n",
        "# print(\"\\n\")\n",
        "a=open(\"srishti.txt\")\n",
        "print(a.read())\n"
      ],
      "metadata": {
        "colab": {
          "base_uri": "https://localhost:8080/"
        },
        "id": "8sQH81cDhcgA",
        "outputId": "9803e246-ca23-42c2-87c3-fb31aa5205db"
      },
      "execution_count": null,
      "outputs": [
        {
          "output_type": "stream",
          "name": "stdout",
          "text": [
            "hi my name is srishti\n"
          ]
        }
      ]
    }
  ],
  "metadata": {
    "colab": {
      "provenance": [],
      "authorship_tag": "ABX9TyMOxB0oHac3qAIr14vYH6Zb",
      "include_colab_link": true
    },
    "kernelspec": {
      "display_name": "Python 3",
      "name": "python3"
    },
    "language_info": {
      "name": "python"
    }
  },
  "nbformat": 4,
  "nbformat_minor": 0
}