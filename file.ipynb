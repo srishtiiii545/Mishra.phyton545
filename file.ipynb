{
  "nbformat": 4,
  "nbformat_minor": 0,
  "metadata": {
    "colab": {
      "provenance": [],
      "authorship_tag": "ABX9TyMUjm+oFf4LIx6UBsIdMJv8",
      "include_colab_link": true
    },
    "kernelspec": {
      "name": "python3",
      "display_name": "Python 3"
    },
    "language_info": {
      "name": "python"
    }
  },
  "cells": [
    {
      "cell_type": "markdown",
      "metadata": {
        "id": "view-in-github",
        "colab_type": "text"
      },
      "source": [
        "<a href=\"https://colab.research.google.com/github/srishtiiii545/Mishra.phyton545/blob/main/file.ipynb\" target=\"_parent\"><img src=\"https://colab.research.google.com/assets/colab-badge.svg\" alt=\"Open In Colab\"/></a>"
      ]
    },
    {
      "cell_type": "code",
      "execution_count": 1,
      "metadata": {
        "colab": {
          "base_uri": "https://localhost:8080/"
        },
        "id": "0kAv4Rqok76Y",
        "outputId": "e3fc04ed-3a49-4288-c689-5c585a1e7799"
      },
      "outputs": [
        {
          "output_type": "stream",
          "name": "stdout",
          "text": [
            "hi enter the name\n",
            "\n",
            "\n",
            "hello see you never\n"
          ]
        }
      ],
      "source": [
        "a=open(\"sri.txt\")\n",
        "print(a.read())\n",
        "a.close()\n",
        "print(\"\\n\")\n",
        "a=open(\"srishti.txt\",\"a\")\n",
        "a.write(\"hello see you never\")\n",
        "a=open(\"srishti.txt\",\"r\")\n",
        "print(a.read())\n",
        "\n"
      ]
    },
    {
      "cell_type": "code",
      "source": [
        "a=open(\"sri.txt\",\"w\")\n",
        "a.write(\"hello see you never\")\n",
        "a.write(\"\\n\")\n",
        "a=open(\"sri.txt\",\"a\")\n",
        "# a.write(\"hello see you never\")\n",
        "a.close()\n",
        "# print(\"\\n\")\n",
        "a=open(\"sri.txt\")\n",
        "print(a.read())"
      ],
      "metadata": {
        "colab": {
          "base_uri": "https://localhost:8080/"
        },
        "id": "HY4W9UJpm5uN",
        "outputId": "73203c23-3553-4abf-d117-8d1a79344dfb"
      },
      "execution_count": null,
      "outputs": [
        {
          "output_type": "stream",
          "name": "stdout",
          "text": [
            "hello see you never\n",
            "\n"
          ]
        }
      ]
    },
    {
      "cell_type": "code",
      "source": [
        "a=open(\"sri.txt\",\"w\")\n",
        "a.write(input())\n",
        "print(\"\\n\")\n",
        "a.write(input())\n",
        "a.write(input())\n",
        "a=open(\"sri.txt\",\"a\")\n",
        "a.close()\n",
        "a=open(\"sri.txt\")\n",
        "print(a.read())\n"
      ],
      "metadata": {
        "id": "kou6f6EfSgub"
      },
      "execution_count": null,
      "outputs": []
    }
  ]
}